{
 "cells": [
  {
   "attachments": {},
   "cell_type": "markdown",
   "metadata": {},
   "source": [
    "### Imports"
   ]
  },
  {
   "cell_type": "code",
   "execution_count": 1,
   "metadata": {},
   "outputs": [
    {
     "name": "stdout",
     "output_type": "stream",
     "text": [
      "imported\n"
     ]
    }
   ],
   "source": [
    "import torch\n",
    "import torchvision\n",
    "import torchvision.transforms as T\n",
    "import torch.nn as nn\n",
    "import torch.nn.functional as F\n",
    "import numpy as np\n",
    "import matplotlib.pyplot as plt\n",
    "import os\n",
    "from sklearn.model_selection import train_test_split\n",
    "from torchsummary import summary\n",
    "from tqdm import tqdm\n",
    "from torch.optim.lr_scheduler import _LRScheduler\n",
    "from IPython.display import clear_output\n",
    "from torchmetrics import StructuralSimilarityIndexMeasure, PeakSignalNoiseRatio\n",
    "from torchmetrics.image.fid import FrechetInceptionDistance\n",
    "\n",
    "print('imported')"
   ]
  },
  {
   "attachments": {},
   "cell_type": "markdown",
   "metadata": {},
   "source": [
    "### Constants"
   ]
  },
  {
   "cell_type": "code",
   "execution_count": 2,
   "metadata": {},
   "outputs": [
    {
     "name": "stdout",
     "output_type": "stream",
     "text": [
      "Selected device: cuda\n",
      "Device name: NVIDIA RTX A2000 8GB Laptop GPU\n"
     ]
    }
   ],
   "source": [
    "np.random.seed(42)\n",
    "\n",
    "DATA_DIR = './data/'\n",
    "WEIGHT_DIR = './weights/'\n",
    "STATS_DIR = './stats/'\n",
    "\n",
    "# creating main paths\n",
    "if not os.path.exists(WEIGHT_DIR):\n",
    "    os.mkdir(WEIGHT_DIR)\n",
    "if not os.path.exists(STATS_DIR):\n",
    "    os.mkdir(STATS_DIR)\n",
    "\n",
    "# working device\n",
    "device = torch.device(\"cuda\" if torch.cuda.is_available() else \"cpu\")\n",
    "print('Selected device: {}'.format(device))\n",
    "print('Device name: {}'.format(torch.cuda.get_device_name(device)))\n",
    "\n",
    "# other cosntants\n",
    "# you can modify from here: and only modify whats possible to modify (for backbones and optimizers)\n",
    "DATASET = 'mnist'\n",
    "assert DATASET in ['mnist', 'cifar10', 'brats'], 'Choose an available dataset'\n",
    "BATCH_SIZE = 32\n",
    "EPOCHS = 100\n",
    "IMG_SIZE = (128, 128) if DATASET == 'brats' else (32, 32)\n",
    "LEARNING_RATE = 0.01\n",
    "LATENT_DIM = 4\n",
    "IN_CHANNELS = 1\n",
    "NUM_CHANNELS = 256\n",
    "BOTTLENECK_RATIO = 0.5"
   ]
  },
  {
   "cell_type": "code",
   "execution_count": 3,
   "metadata": {},
   "outputs": [
    {
     "ename": "TypeError",
     "evalue": "view(): argument 'size' must be tuple of SymInts, but found element of type list at pos 2",
     "output_type": "error",
     "traceback": [
      "\u001b[1;31m---------------------------------------------------------------------------\u001b[0m",
      "\u001b[1;31mTypeError\u001b[0m                                 Traceback (most recent call last)",
      "\u001b[1;32m~\\AppData\\Local\\Temp\\ipykernel_8484\\929246076.py\u001b[0m in \u001b[0;36m<module>\u001b[1;34m\u001b[0m\n\u001b[0;32m      2\u001b[0m \u001b[0mmodel\u001b[0m \u001b[1;33m=\u001b[0m \u001b[0mVAE\u001b[0m\u001b[1;33m(\u001b[0m\u001b[1;33m(\u001b[0m\u001b[0mIN_CHANNELS\u001b[0m\u001b[1;33m,\u001b[0m \u001b[1;33m*\u001b[0m\u001b[0mIMG_SIZE\u001b[0m\u001b[1;33m)\u001b[0m\u001b[1;33m,\u001b[0m \u001b[0mIN_CHANNELS\u001b[0m\u001b[1;33m,\u001b[0m \u001b[1;33m[\u001b[0m\u001b[1;36m128\u001b[0m\u001b[1;33m,\u001b[0m \u001b[1;36m128\u001b[0m\u001b[1;33m,\u001b[0m \u001b[1;36m128\u001b[0m\u001b[1;33m,\u001b[0m \u001b[1;36m128\u001b[0m\u001b[1;33m]\u001b[0m\u001b[1;33m,\u001b[0m \u001b[0mLATENT_DIM\u001b[0m\u001b[1;33m,\u001b[0m \u001b[0mskip\u001b[0m\u001b[1;33m=\u001b[0m\u001b[1;32mFalse\u001b[0m\u001b[1;33m)\u001b[0m\u001b[1;33m.\u001b[0m\u001b[0mto\u001b[0m\u001b[1;33m(\u001b[0m\u001b[0mdevice\u001b[0m\u001b[1;33m)\u001b[0m\u001b[1;33m\u001b[0m\u001b[1;33m\u001b[0m\u001b[0m\n\u001b[0;32m      3\u001b[0m \u001b[0mx\u001b[0m \u001b[1;33m=\u001b[0m \u001b[0mtorch\u001b[0m\u001b[1;33m.\u001b[0m\u001b[0mrandn\u001b[0m\u001b[1;33m(\u001b[0m\u001b[1;36m1\u001b[0m\u001b[1;33m,\u001b[0m \u001b[0mIN_CHANNELS\u001b[0m\u001b[1;33m,\u001b[0m \u001b[1;33m*\u001b[0m\u001b[0mIMG_SIZE\u001b[0m\u001b[1;33m)\u001b[0m\u001b[1;33m.\u001b[0m\u001b[0mto\u001b[0m\u001b[1;33m(\u001b[0m\u001b[0mdevice\u001b[0m\u001b[1;33m)\u001b[0m\u001b[1;33m\u001b[0m\u001b[1;33m\u001b[0m\u001b[0m\n\u001b[1;32m----> 4\u001b[1;33m \u001b[0moutput\u001b[0m \u001b[1;33m=\u001b[0m \u001b[0mmodel\u001b[0m\u001b[1;33m(\u001b[0m\u001b[0mx\u001b[0m\u001b[1;33m)\u001b[0m\u001b[1;33m\u001b[0m\u001b[1;33m\u001b[0m\u001b[0m\n\u001b[0m",
      "\u001b[1;32mc:\\Users\\Riles\\miniconda3\\envs\\deeplearning\\lib\\site-packages\\torch\\nn\\modules\\module.py\u001b[0m in \u001b[0;36m_call_impl\u001b[1;34m(self, *input, **kwargs)\u001b[0m\n\u001b[0;32m   1188\u001b[0m         if not (self._backward_hooks or self._forward_hooks or self._forward_pre_hooks or _global_backward_hooks\n\u001b[0;32m   1189\u001b[0m                 or _global_forward_hooks or _global_forward_pre_hooks):\n\u001b[1;32m-> 1190\u001b[1;33m             \u001b[1;32mreturn\u001b[0m \u001b[0mforward_call\u001b[0m\u001b[1;33m(\u001b[0m\u001b[1;33m*\u001b[0m\u001b[0minput\u001b[0m\u001b[1;33m,\u001b[0m \u001b[1;33m**\u001b[0m\u001b[0mkwargs\u001b[0m\u001b[1;33m)\u001b[0m\u001b[1;33m\u001b[0m\u001b[1;33m\u001b[0m\u001b[0m\n\u001b[0m\u001b[0;32m   1191\u001b[0m         \u001b[1;31m# Do not call functions when jit is used\u001b[0m\u001b[1;33m\u001b[0m\u001b[1;33m\u001b[0m\u001b[1;33m\u001b[0m\u001b[0m\n\u001b[0;32m   1192\u001b[0m         \u001b[0mfull_backward_hooks\u001b[0m\u001b[1;33m,\u001b[0m \u001b[0mnon_full_backward_hooks\u001b[0m \u001b[1;33m=\u001b[0m \u001b[1;33m[\u001b[0m\u001b[1;33m]\u001b[0m\u001b[1;33m,\u001b[0m \u001b[1;33m[\u001b[0m\u001b[1;33m]\u001b[0m\u001b[1;33m\u001b[0m\u001b[1;33m\u001b[0m\u001b[0m\n",
      "\u001b[1;32mc:\\Work\\riemannian_variational_autoencoder\\models\\vae.py\u001b[0m in \u001b[0;36mforward\u001b[1;34m(self, x)\u001b[0m\n\u001b[0;32m     31\u001b[0m         \u001b[0mmu\u001b[0m\u001b[1;33m,\u001b[0m \u001b[0mlogvar\u001b[0m\u001b[1;33m,\u001b[0m \u001b[0mfeatures\u001b[0m \u001b[1;33m=\u001b[0m \u001b[0mself\u001b[0m\u001b[1;33m.\u001b[0m\u001b[0mencode\u001b[0m\u001b[1;33m(\u001b[0m\u001b[0mx\u001b[0m\u001b[1;33m)\u001b[0m\u001b[1;33m\u001b[0m\u001b[1;33m\u001b[0m\u001b[0m\n\u001b[0;32m     32\u001b[0m         \u001b[0mz\u001b[0m\u001b[1;33m,\u001b[0m \u001b[0meps\u001b[0m\u001b[1;33m,\u001b[0m \u001b[0m_\u001b[0m \u001b[1;33m=\u001b[0m \u001b[0mself\u001b[0m\u001b[1;33m.\u001b[0m\u001b[0mreparametrize\u001b[0m\u001b[1;33m(\u001b[0m\u001b[0mmu\u001b[0m\u001b[1;33m,\u001b[0m \u001b[0mlogvar\u001b[0m\u001b[1;33m)\u001b[0m\u001b[1;33m\u001b[0m\u001b[1;33m\u001b[0m\u001b[0m\n\u001b[1;32m---> 33\u001b[1;33m         \u001b[0mx\u001b[0m \u001b[1;33m=\u001b[0m \u001b[0mself\u001b[0m\u001b[1;33m.\u001b[0m\u001b[0mdecode\u001b[0m\u001b[1;33m(\u001b[0m\u001b[0mz\u001b[0m\u001b[1;33m,\u001b[0m \u001b[0mfeatures\u001b[0m \u001b[1;32mif\u001b[0m \u001b[0mself\u001b[0m\u001b[1;33m.\u001b[0m\u001b[0mskip\u001b[0m \u001b[1;32melse\u001b[0m \u001b[1;32mNone\u001b[0m\u001b[1;33m)\u001b[0m\u001b[1;33m\u001b[0m\u001b[1;33m\u001b[0m\u001b[0m\n\u001b[0m\u001b[0;32m     34\u001b[0m         \u001b[1;32mreturn\u001b[0m \u001b[0mdict\u001b[0m\u001b[1;33m(\u001b[0m\u001b[0mx\u001b[0m\u001b[1;33m=\u001b[0m\u001b[0mx\u001b[0m\u001b[1;33m,\u001b[0m \u001b[0mz\u001b[0m\u001b[1;33m=\u001b[0m\u001b[0mz\u001b[0m\u001b[1;33m,\u001b[0m \u001b[0meps\u001b[0m\u001b[1;33m=\u001b[0m\u001b[0meps\u001b[0m\u001b[1;33m,\u001b[0m \u001b[0mmu\u001b[0m\u001b[1;33m=\u001b[0m\u001b[0mmu\u001b[0m\u001b[1;33m,\u001b[0m \u001b[0mlogvar\u001b[0m\u001b[1;33m=\u001b[0m\u001b[0mlogvar\u001b[0m\u001b[1;33m)\u001b[0m\u001b[1;33m\u001b[0m\u001b[1;33m\u001b[0m\u001b[0m\n\u001b[0;32m     35\u001b[0m \u001b[1;33m\u001b[0m\u001b[0m\n",
      "\u001b[1;32mc:\\Work\\riemannian_variational_autoencoder\\models\\vae.py\u001b[0m in \u001b[0;36mdecode\u001b[1;34m(self, z, features)\u001b[0m\n\u001b[0;32m     21\u001b[0m \u001b[1;33m\u001b[0m\u001b[0m\n\u001b[0;32m     22\u001b[0m     \u001b[1;32mdef\u001b[0m \u001b[0mdecode\u001b[0m\u001b[1;33m(\u001b[0m\u001b[0mself\u001b[0m\u001b[1;33m,\u001b[0m \u001b[0mz\u001b[0m\u001b[1;33m,\u001b[0m \u001b[0mfeatures\u001b[0m\u001b[1;33m=\u001b[0m\u001b[1;32mNone\u001b[0m\u001b[1;33m)\u001b[0m\u001b[1;33m:\u001b[0m\u001b[1;33m\u001b[0m\u001b[1;33m\u001b[0m\u001b[0m\n\u001b[1;32m---> 23\u001b[1;33m         \u001b[1;32mreturn\u001b[0m \u001b[0mself\u001b[0m\u001b[1;33m.\u001b[0m\u001b[0mdecoder\u001b[0m\u001b[1;33m(\u001b[0m\u001b[0mz\u001b[0m\u001b[1;33m,\u001b[0m \u001b[0mfeatures\u001b[0m\u001b[1;33m)\u001b[0m\u001b[1;33m\u001b[0m\u001b[1;33m\u001b[0m\u001b[0m\n\u001b[0m\u001b[0;32m     24\u001b[0m \u001b[1;33m\u001b[0m\u001b[0m\n\u001b[0;32m     25\u001b[0m     \u001b[1;32mdef\u001b[0m \u001b[0mreparametrize\u001b[0m\u001b[1;33m(\u001b[0m\u001b[0mself\u001b[0m\u001b[1;33m,\u001b[0m \u001b[0mmu\u001b[0m\u001b[1;33m,\u001b[0m \u001b[0mlogvar\u001b[0m\u001b[1;33m)\u001b[0m\u001b[1;33m:\u001b[0m\u001b[1;33m\u001b[0m\u001b[1;33m\u001b[0m\u001b[0m\n",
      "\u001b[1;32mc:\\Users\\Riles\\miniconda3\\envs\\deeplearning\\lib\\site-packages\\torch\\nn\\modules\\module.py\u001b[0m in \u001b[0;36m_call_impl\u001b[1;34m(self, *input, **kwargs)\u001b[0m\n\u001b[0;32m   1188\u001b[0m         if not (self._backward_hooks or self._forward_hooks or self._forward_pre_hooks or _global_backward_hooks\n\u001b[0;32m   1189\u001b[0m                 or _global_forward_hooks or _global_forward_pre_hooks):\n\u001b[1;32m-> 1190\u001b[1;33m             \u001b[1;32mreturn\u001b[0m \u001b[0mforward_call\u001b[0m\u001b[1;33m(\u001b[0m\u001b[1;33m*\u001b[0m\u001b[0minput\u001b[0m\u001b[1;33m,\u001b[0m \u001b[1;33m**\u001b[0m\u001b[0mkwargs\u001b[0m\u001b[1;33m)\u001b[0m\u001b[1;33m\u001b[0m\u001b[1;33m\u001b[0m\u001b[0m\n\u001b[0m\u001b[0;32m   1191\u001b[0m         \u001b[1;31m# Do not call functions when jit is used\u001b[0m\u001b[1;33m\u001b[0m\u001b[1;33m\u001b[0m\u001b[1;33m\u001b[0m\u001b[0m\n\u001b[0;32m   1192\u001b[0m         \u001b[0mfull_backward_hooks\u001b[0m\u001b[1;33m,\u001b[0m \u001b[0mnon_full_backward_hooks\u001b[0m \u001b[1;33m=\u001b[0m \u001b[1;33m[\u001b[0m\u001b[1;33m]\u001b[0m\u001b[1;33m,\u001b[0m \u001b[1;33m[\u001b[0m\u001b[1;33m]\u001b[0m\u001b[1;33m\u001b[0m\u001b[1;33m\u001b[0m\u001b[0m\n",
      "\u001b[1;32mc:\\Work\\riemannian_variational_autoencoder\\models\\base.py\u001b[0m in \u001b[0;36mforward\u001b[1;34m(self, x, features)\u001b[0m\n\u001b[0;32m    161\u001b[0m         \u001b[0mx\u001b[0m \u001b[1;33m=\u001b[0m \u001b[0mself\u001b[0m\u001b[1;33m.\u001b[0m\u001b[0mfully_connected\u001b[0m\u001b[1;33m(\u001b[0m\u001b[0mx\u001b[0m\u001b[1;33m)\u001b[0m\u001b[1;33m\u001b[0m\u001b[1;33m\u001b[0m\u001b[0m\n\u001b[0;32m    162\u001b[0m         \u001b[1;31m# x = x.view(-1, self.hidden_channels[0], *self.encoding_shapes[0])\u001b[0m\u001b[1;33m\u001b[0m\u001b[1;33m\u001b[0m\u001b[1;33m\u001b[0m\u001b[0m\n\u001b[1;32m--> 163\u001b[1;33m         \u001b[0mx\u001b[0m \u001b[1;33m=\u001b[0m \u001b[0mx\u001b[0m\u001b[1;33m.\u001b[0m\u001b[0mview\u001b[0m\u001b[1;33m(\u001b[0m\u001b[1;33m-\u001b[0m\u001b[1;36m1\u001b[0m\u001b[1;33m,\u001b[0m \u001b[0mself\u001b[0m\u001b[1;33m.\u001b[0m\u001b[0mhidden_channels\u001b[0m\u001b[1;33m,\u001b[0m \u001b[1;33m*\u001b[0m\u001b[0mself\u001b[0m\u001b[1;33m.\u001b[0m\u001b[0mencoding_shapes\u001b[0m\u001b[1;33m[\u001b[0m\u001b[1;36m0\u001b[0m\u001b[1;33m]\u001b[0m\u001b[1;33m)\u001b[0m\u001b[1;33m\u001b[0m\u001b[1;33m\u001b[0m\u001b[0m\n\u001b[0m\u001b[0;32m    164\u001b[0m         \u001b[1;32mfor\u001b[0m \u001b[0midx\u001b[0m\u001b[1;33m,\u001b[0m \u001b[0mupsampler\u001b[0m \u001b[1;32min\u001b[0m \u001b[0menumerate\u001b[0m\u001b[1;33m(\u001b[0m\u001b[0mself\u001b[0m\u001b[1;33m.\u001b[0m\u001b[0mupsamples\u001b[0m\u001b[1;33m)\u001b[0m\u001b[1;33m:\u001b[0m\u001b[1;33m\u001b[0m\u001b[1;33m\u001b[0m\u001b[0m\n\u001b[0;32m    165\u001b[0m             \u001b[0mx\u001b[0m \u001b[1;33m=\u001b[0m \u001b[0mupsampler\u001b[0m\u001b[1;33m(\u001b[0m\u001b[0mx\u001b[0m\u001b[1;33m,\u001b[0m \u001b[0mfeatures\u001b[0m\u001b[1;33m[\u001b[0m\u001b[0mfeatures\u001b[0m\u001b[1;33m.\u001b[0m\u001b[0m__len__\u001b[0m\u001b[1;33m(\u001b[0m\u001b[1;33m)\u001b[0m \u001b[1;33m-\u001b[0m \u001b[1;36m1\u001b[0m \u001b[1;33m-\u001b[0m \u001b[0midx\u001b[0m\u001b[1;33m]\u001b[0m \u001b[1;32mif\u001b[0m \u001b[0mfeatures\u001b[0m \u001b[1;33m!=\u001b[0m \u001b[1;32mNone\u001b[0m \u001b[1;32melse\u001b[0m \u001b[1;32mNone\u001b[0m\u001b[1;33m)\u001b[0m\u001b[1;33m\u001b[0m\u001b[1;33m\u001b[0m\u001b[0m\n",
      "\u001b[1;31mTypeError\u001b[0m: view(): argument 'size' must be tuple of SymInts, but found element of type list at pos 2"
     ]
    }
   ],
   "source": [
    "from models.vae import VAE\n",
    "model = VAE((IN_CHANNELS, *IMG_SIZE), IN_CHANNELS, [128, 128, 128, 128], LATENT_DIM, skip=False).to(device)\n",
    "x = torch.randn(1, IN_CHANNELS, *IMG_SIZE).to(device)\n",
    "output = model(x)"
   ]
  },
  {
   "cell_type": "code",
   "execution_count": null,
   "metadata": {},
   "outputs": [],
   "source": []
  },
  {
   "attachments": {},
   "cell_type": "markdown",
   "metadata": {},
   "source": [
    "## Data preprocessing"
   ]
  },
  {
   "attachments": {},
   "cell_type": "markdown",
   "metadata": {},
   "source": [
    "### MNIST"
   ]
  },
  {
   "cell_type": "code",
   "execution_count": 3,
   "metadata": {},
   "outputs": [
    {
     "name": "stdout",
     "output_type": "stream",
     "text": [
      "Number of training samples: 900\n",
      "Number of test samples: 100\n",
      "Number of iterations per epoch: 900\n",
      "Image size: torch.Size([900, 1, 28, 28])\n",
      "Image max value: 1.0\n",
      "Image min value: 0.0\n"
     ]
    }
   ],
   "source": [
    "class IdentityDataset(torch.utils.data.Dataset):\n",
    "    def __init__(self, x, transform=None):\n",
    "        self.x = x\n",
    "        self.transform = transform\n",
    "\n",
    "    def __len__(self):\n",
    "        return len(self.x)\n",
    "\n",
    "    def __getitem__(self, idx):\n",
    "        if self.transform:\n",
    "            return self.transform(self.x[idx])\n",
    "        return self.x[idx]\n",
    "\n",
    "# dans un premier lieu, nous allons travailler avec MNIST\n",
    "mnist = torchvision.datasets.MNIST(root=DATA_DIR, train=True, download=True)\n",
    "\n",
    "n_samples = 1000\n",
    "\n",
    "# removing some digits to reduce the size of the dataset\n",
    "selected_index = np.isin(mnist.targets, [1, 2, 3])\n",
    "images = mnist.data[selected_index][:n_samples]\n",
    "targets = mnist.targets[selected_index][:n_samples]\n",
    "\n",
    "# preprocessing\n",
    "images = images.div(255).type(torch.float32)\n",
    "images = images.unsqueeze(1)\n",
    "\n",
    "train_x, test_x, train_y, test_y = train_test_split(images, targets, test_size=0.1, random_state=42)\n",
    "\n",
    "print('Number of training samples: {}'.format(len(train_x)))\n",
    "print('Number of test samples: {}'.format(len(test_x)))\n",
    "print('Number of iterations per epoch: {}'.format(len(train_x // BATCH_SIZE)))\n",
    "print('Image size: {}'.format(train_x.shape))\n",
    "print('Image max value: {}'.format(train_x.max()))\n",
    "print('Image min value: {}'.format(train_x.min()))"
   ]
  },
  {
   "attachments": {},
   "cell_type": "markdown",
   "metadata": {},
   "source": [
    "### BraTS"
   ]
  },
  {
   "cell_type": "code",
   "execution_count": 4,
   "metadata": {},
   "outputs": [
    {
     "data": {
      "image/png": "[encoded data removed]",
      "text/plain": [
       "<Figure size 1000x400 with 2 Axes>"
      ]
     },
     "metadata": {},
     "output_type": "display_data"
    },
    {
     "name": "stdout",
     "output_type": "stream",
     "text": [
      "Number of training samples: 900\n",
      "Number of test samples: 100\n",
      "Image size: torch.Size([32, 32])\n",
      "Total shape: torch.Size([900, 1, 32, 32])\n",
      "Max pixel value: 0.9964683055877686\n",
      "Min pixel value: 0.0\n"
     ]
    }
   ],
   "source": [
    "# loading brats dataset\n",
    "data = np.load(os.path.join(DATA_DIR, 'brats_data.npz'))\n",
    "flair, t1 = data['flair'], data['t1']\n",
    "\n",
    "\n",
    "# preprocessing\n",
    "n_max_flair = [flair[i].max() for i in range(flair.shape[0])]\n",
    "n_max_t1 = [t1[i].max() for i in range(t1.shape[0])]\n",
    "\n",
    "for idx in range(0, flair.shape[0]):\n",
    "    flair[idx] = (flair[idx] / n_max_flair[idx]).astype(np.float32)\n",
    "    t1[idx] = (t1[idx] / n_max_t1[idx]).astype(np.float32)\n",
    "\n",
    "flair = torch.tensor(flair, dtype=torch.float32).unsqueeze(1)\n",
    "t1 = torch.tensor(t1, dtype=torch.float32).unsqueeze(1)\n",
    "\n",
    "# resize images\n",
    "if IMG_SIZE != flair.shape[2:]:\n",
    "    flair = T.functional.resize(flair, IMG_SIZE)\n",
    "    t1 = T.functional.resize(t1, IMG_SIZE)\n",
    "\n",
    "# splitting dataset\n",
    "n_train = int(0.9 * flair.shape[0])\n",
    "flair_train_x, flair_test_x = flair[:n_train], flair[n_train:]\n",
    "t1_train_x, t1_test_x = t1[:n_train], t1[n_train:]\n",
    "\n",
    "# visualizing a sample\n",
    "n_to_visualize = 5\n",
    "rand_idx = np.random.randint(0, flair_train_x.shape[0], n_to_visualize)\n",
    "\n",
    "plt.figure(figsize=(10, 4))\n",
    "plt.subplot(2, 1, 1)\n",
    "plt.imshow(np.hstack([flair_train_x[idx, 0] for idx in rand_idx]), cmap='gray')\n",
    "plt.title('Flair')\n",
    "plt.axis('off')\n",
    "plt.subplot(2, 1, 2)\n",
    "plt.imshow(np.hstack([t1_train_x[idx, 0] for idx in rand_idx]), cmap='gray')\n",
    "plt.title('T1')\n",
    "plt.axis('off')\n",
    "\n",
    "plt.show()\n",
    "\n",
    "print('Number of training samples: {}'.format(flair_train_x.shape[0]))\n",
    "print('Number of test samples: {}'.format(flair_test_x.shape[0]))\n",
    "print('Image size: {}'.format(flair_train_x.shape[2:]))\n",
    "print('Total shape: {}'.format(flair_train_x.shape))\n",
    "print('Max pixel value: {}'.format(flair.max()))\n",
    "print('Min pixel value: {}'.format(flair.min()))"
   ]
  },
  {
   "attachments": {},
   "cell_type": "markdown",
   "metadata": {},
   "source": [
    "### Utilities"
   ]
  },
  {
   "cell_type": "code",
   "execution_count": 5,
   "metadata": {},
   "outputs": [],
   "source": [
    "# norm\n",
    "normalize = lambda x: x / 255.0\n",
    "denormalize = lambda x: x * 255.0\n",
    "\n",
    "def save_image(img, filename):\n",
    "    plt.figure(figsize=(25, 25))        \n",
    "    for i in range(100):\n",
    "        plt.subplot(10, 10, i + 1)\n",
    "        plt.imshow(img[i].squeeze(0).detach().cpu().numpy(), cmap='gray')\n",
    "        plt.axis('off')\n",
    "    plt.savefig(os.path.join(STATS_DIR, filename), bbox_inches='tight', pad_inches=0)\n",
    "\n",
    "def sample_and_save(model, **kwargs):\n",
    "    model.eval()\n",
    "    with torch.no_grad():\n",
    "        g = model.sample(100, **kwargs)\n",
    "        filename = 'samples_{}_{}_{}.png'.format(type(model).__name__, IMG_SIZE[0], LATENT_DIM)\n",
    "        save_image(g, filename)\n",
    "    print('Saved image to {}'.format(filename))\n",
    "\n",
    "class PolyScheduler(_LRScheduler):\n",
    "    def __init__(self, optimizer, base_lr, max_steps, warmup_steps, last_epoch=-1):\n",
    "        self.base_lr = base_lr\n",
    "        self.warmup_lr_init = 0.0001\n",
    "        self.max_steps: int = max_steps\n",
    "        self.warmup_steps: int = warmup_steps\n",
    "        self.power = 2\n",
    "        super(PolyScheduler, self).__init__(optimizer, -1, False)\n",
    "        self.last_epoch = last_epoch\n",
    "\n",
    "    def get_warmup_lr(self):\n",
    "        alpha = float(self.last_epoch) / float(self.warmup_steps)\n",
    "        return [self.base_lr * alpha for _ in self.optimizer.param_groups]\n",
    "\n",
    "    def get_lr(self):\n",
    "        if self.last_epoch == -1:\n",
    "            return [self.warmup_lr_init for _ in self.optimizer.param_groups]\n",
    "        if self.last_epoch < self.warmup_steps:\n",
    "            return self.get_warmup_lr()\n",
    "        else:\n",
    "            alpha = pow(\n",
    "                1\n",
    "                - float(self.last_epoch - self.warmup_steps)\n",
    "                / float(self.max_steps - self.warmup_steps),\n",
    "                self.power,\n",
    "            )\n",
    "            return [self.base_lr * alpha for _ in self.optimizer.param_groups]"
   ]
  },
  {
   "attachments": {},
   "cell_type": "markdown",
   "metadata": {},
   "source": [
    "### Training en evaluation functions"
   ]
  },
  {
   "cell_type": "code",
   "execution_count": 6,
   "metadata": {},
   "outputs": [],
   "source": [
    "def train_loop(\n",
    "        model, optimizer, epochs, dataloader, save_freq=EPOCHS // 10, resume=False, verbose=True, \n",
    "        sample_freq=EPOCHS // 10, weights_path=WEIGHT_DIR, stats_path=STATS_DIR, **kwargs\n",
    "    ): \n",
    "    model_name = type(model).__name__\n",
    "    optimizer_name = type(optimizer).__name__\n",
    "    checkpoint_filename = 'checkpoint_{}_{}_{}.pth'.format(model_name, IMG_SIZE[0], LATENT_DIM)\n",
    "\n",
    "    # In case the last learning was interrupted or manually stopped\n",
    "    if verbose: print('Resuming: {}'.format(resume))\n",
    "    if resume:\n",
    "        if os.path.exists(checkpoint_filename):\n",
    "            checkpoint = torch.load(checkpoint_filename)\n",
    "            if verbose: print('Model to resume: {} - Latent dim: {} - Image size: {}'.format(\n",
    "                checkpoint['backbone'], checkpoint['latent_dim'], checkpoint['img_size']\n",
    "            ))\n",
    "        else:\n",
    "            print('There is no corresponding checkpoint file for the given configuration.. Turn resume=False to start a new training')\n",
    "            return\n",
    "\n",
    "    if verbose:\n",
    "        print('Selected model: {}'.format(model_name))\n",
    "\n",
    "    # Loss function is a cross entropy. The most used function for multiclass classification\n",
    "    criterion = model.loss_function\n",
    "\n",
    "    # 1 single warm up step\n",
    "    warmup_step = len(dataloader) * 1 \n",
    "    total_step = len(dataloader) * epochs\n",
    "\n",
    "    lr_scheduler = PolyScheduler(\n",
    "        optimizer=optimizer,\n",
    "        base_lr=0.001,\n",
    "        max_steps=total_step,\n",
    "        warmup_steps=warmup_step,\n",
    "        last_epoch=-1\n",
    "    ) \n",
    "\n",
    "    if resume:\n",
    "        train_loss_history = checkpoint['train_loss_history'] # (total_loss, recon_loss, kld_loss)\n",
    "        start_epoch = checkpoint['epochs']\n",
    "        model.load_state_dict(checkpoint['model_state'])\n",
    "        optimizer.load_state_dict(checkpoint['optimizer_state'])\n",
    "        lr_scheduler.load_state_dict(checkpoint['lr_scheduler_state'])\n",
    "    else:\n",
    "        start_epoch = 0\n",
    "        train_loss_history = list()\n",
    "    \n",
    "    for epoch in range(start_epoch, epochs):\n",
    "        model.train()\n",
    "\n",
    "        running_total_loss = 0.0\n",
    "        running_recon_loss = 0.0\n",
    "        running_kld_loss = 0.0\n",
    "\n",
    "        progress = None\n",
    "        if verbose: progress = tqdm(dataloader, position=0, leave=True)\n",
    "        for i, x in enumerate(dataloader):\n",
    "            x = x.to(device, dtype=torch.float32)\n",
    "            optimizer.zero_grad()\n",
    "            with torch.set_grad_enabled(True):\n",
    "                output = model(x)\n",
    "                stats = criterion(output['x'], x, output['mu'], output['logvar'])\n",
    "                # if training only\n",
    "                stats['loss'].backward()\n",
    "                optimizer.step()\n",
    "                lr_scheduler.step()\n",
    "\n",
    "            running_total_loss += stats['loss'].item()\n",
    "            running_recon_loss += stats['recon_loss'].item()\n",
    "            running_kld_loss += stats['kld_loss'].item()\n",
    "\n",
    "            if verbose:\n",
    "                with torch.no_grad():\n",
    "                    progress.update(1)\n",
    "                    progress.set_description('Epoch: {:5}/{} - Loss: {:.4f} - Recon Loss: {:.4f} - KL Loss: {:.4f}'.format(\n",
    "                        epoch + 1, EPOCHS, running_total_loss / (i + 1), running_recon_loss / (i + 1), running_kld_loss / (i + 1)\n",
    "                    ))\n",
    "\n",
    "        train_loss_history.append((\n",
    "            running_total_loss / dataloader.__len__(),\n",
    "            running_recon_loss / dataloader.__len__(),\n",
    "            running_kld_loss / dataloader.__len__()\n",
    "        ))\n",
    "\n",
    "        if (epoch + 1) % sample_freq == 0 and verbose:\n",
    "            # cleaning output\n",
    "            clear_output(wait=True)\n",
    "            \n",
    "            # plotting generation\n",
    "            model.eval()\n",
    "            n_sample = 5\n",
    "            if kwargs.get('dt') is not None:\n",
    "                sample = model.sample(n_sample, dt=kwargs.get('dt'))\n",
    "            else:\n",
    "                sample = model.sample(n_sample)\n",
    "            sample = denormalize(sample).type(torch.uint8)\n",
    "            plt.figure(figsize=(10, 2))\n",
    "            for i in range(n_sample):\n",
    "                plt.subplot(1, n_sample, i + 1)\n",
    "                plt.axis('off')\n",
    "                plt.imshow(sample[i].squeeze(0).detach().cpu(), cmap='gray')\n",
    "            plt.show()\n",
    "\n",
    "            # plotting reconstruction\n",
    "            x = torch.hstack([img for img in x[:n_sample].view(n_sample, 32, 32)])\n",
    "            x = denormalize(x).type(torch.uint8)\n",
    "            x_hat = torch.hstack([img for img in output['x'][:n_sample].view(n_sample, 32, 32)])\n",
    "            x_hat = denormalize(x_hat).type(torch.uint8)\n",
    "            plt.figure(figsize=(20, 4))\n",
    "            plt.subplot(2, 1, 1)\n",
    "            plt.axis('off')\n",
    "            plt.title('Original')\n",
    "            plt.imshow(torchvision.utils.make_grid(x, nrow=n_sample).detach().cpu().permute(1, 2, 0), cmap='gray')\n",
    "            plt.subplot(2, 1, 2)\n",
    "            plt.axis('off')\n",
    "            plt.title('Reconstruction')\n",
    "            plt.imshow(torchvision.utils.make_grid(x_hat, nrow=n_sample).detach().cpu().permute(1, 2, 0), cmap='gray')\n",
    "            plt.show()\n",
    "\n",
    "        if (epoch + 1) % save_freq == 0: \n",
    "            # checkpointing\n",
    "            # each epoch, states are saved\n",
    "            checkpoint = {\n",
    "                'model_state': model.state_dict(),\n",
    "                'optimizer_state': optimizer.state_dict(),\n",
    "                'lr_scheduler_state': lr_scheduler.state_dict(),\n",
    "                'train_loss_history': train_loss_history,\n",
    "                'epochs': epoch,\n",
    "                'latent_dim': LATENT_DIM,\n",
    "                'img_size': IMG_SIZE\n",
    "            }\n",
    "            torch.save(checkpoint, checkpoint_filename)\n",
    "            if verbose: print('saved checkpoint')\n",
    "\n",
    "        if verbose: progress.close()\n",
    "        del progress\n",
    "\n",
    "    # at this point training is over so we can delete the checkpoint and save only what we need\n",
    "    # remove the checkpoint file if it exists\n",
    "    if os.path.exists(checkpoint_filename):\n",
    "        os.remove(checkpoint_filename)\n",
    "\n",
    "    # saving stats\n",
    "    if STATS_DIR != None:\n",
    "        with open(os.path.join(STATS_DIR, 'stats_{}_{}_{}.pth'.format(model_name, IMG_SIZE[0], LATENT_DIM)), 'wb') as stats_file:\n",
    "            import pickle\n",
    "            pickle.dump(train_loss_history, stats_file)\n",
    "\n",
    "        if verbose: print('saved stats and weigts')\n",
    "\n",
    "    # freeing memory (those are the most memory consuming i guess)\n",
    "    del checkpoint\n",
    "\n",
    "    import gc\n",
    "    gc.collect()\n",
    "    torch.cuda.empty_cache()\n",
    "\n",
    "    return model, train_loss_history\n",
    "\n",
    "\n",
    "def evaluate_model(model, test_loader, verbose=True, **kwargs): \n",
    "    if verbose:\n",
    "        print('--------------------------------------------')\n",
    "        print('Test metrics (on test set)')\n",
    "\n",
    "    model_name = type(model).__name__\n",
    "    model.eval()\n",
    "\n",
    "    # computing predictions\n",
    "    for i, x in enumerate(tqdm(test_loader, position=0, leave=True)):\n",
    "        x = x.to(device, dtype=torch.float32)\n",
    "        output = model(x)\n",
    "        stats = model.loss_function(output['x'], x, output['mu'], output['logvar'])\n",
    "\n",
    "    # computing main metrics (loss, ssim, psnr)\n",
    "    elbo = stats['loss'].item()\n",
    "    recon_loss = stats['recon_loss'].item()\n",
    "    kld_loss = stats['kld_loss'].item()\n",
    "\n",
    "    # computing ssim and psnr from outputs\n",
    "    psnr = PeakSignalNoiseRatio().to(device)\n",
    "    psnr_score = psnr(output['x'], x)\n",
    "    ssim = StructuralSimilarityIndexMeasure(data_range=1.0).to(device)\n",
    "    ssim_score = ssim(output['x'], x)\n",
    "    \n",
    "    real = torch.vstack([img for img in test_loader])\n",
    "    real = denormalize(real).type(torch.uint8).to(device)\n",
    "    fake = model.sample(len(test_loader), **kwargs)\n",
    "    fake = denormalize(fake).type(torch.uint8)\n",
    "    if real.shape[1] == 1:\n",
    "        real = real.repeat(1, 3, 1, 1)\n",
    "        fake = fake.repeat(1, 3, 1, 1)\n",
    "    fid = FrechetInceptionDistance(feature=64).to(device)\n",
    "    fid.update(real, real=True)\n",
    "    fid.update(fake, real=False)\n",
    "    fid_score = fid.compute()\n",
    "\n",
    "\n",
    "    # adding scores to the history\n",
    "    stats['psnr'] = psnr_score\n",
    "    stats['ssim'] = ssim_score\n",
    "\n",
    "    log = \"\"\"\n",
    "    --------------------------------------------\n",
    "    Total loss (ELBO): {:.3f}\n",
    "    Mean squared error: {:.3f}\n",
    "    Kullback-Leibler divergence: {:.3f}\n",
    "    PSNR: {:.3f}\n",
    "    SSIM: {:.3f}\n",
    "    FID: {:.3f}\n",
    "    kwargs: {}\n",
    "    --------------------------------------------\n",
    "    \"\"\".format(elbo, recon_loss, kld_loss, psnr_score, ssim_score, fid_score, kwargs)\n",
    "\n",
    "    with open(os.path.join(STATS_DIR, 'results_{}_{}_{}.txt'.format(model_name, IMG_SIZE[0], LATENT_DIM)), 'w') as txt_file:\n",
    "        txt_file.write(log)\n",
    "\n",
    "    if verbose: print(log)\n",
    "\n",
    "    return stats\n"
   ]
  },
  {
   "attachments": {},
   "cell_type": "markdown",
   "metadata": {},
   "source": [
    "## Training"
   ]
  },
  {
   "cell_type": "code",
   "execution_count": 7,
   "metadata": {},
   "outputs": [
    {
     "data": {
      "image/png": "[encoded data removed]",
      "text/plain": [
       "<Figure size 1000x200 with 5 Axes>"
      ]
     },
     "metadata": {},
     "output_type": "display_data"
    },
    {
     "data": {
      "image/png": "[encoded data removed]",
      "text/plain": [
       "<Figure size 2000x400 with 2 Axes>"
      ]
     },
     "metadata": {},
     "output_type": "display_data"
    },
    {
     "name": "stderr",
     "output_type": "stream",
     "text": [
      "Epoch:    20/100 - Loss: 27.7449 - Recon Loss: 21.5545 - KL Loss: 6.1904: 100%|██████████| 28/28 [00:00<00:00, 65.56it/s]\n"
     ]
    },
    {
     "name": "stdout",
     "output_type": "stream",
     "text": [
      "saved checkpoint\n"
     ]
    },
    {
     "name": "stderr",
     "output_type": "stream",
     "text": [
      "Epoch:    21/100 - Loss: 27.6067 - Recon Loss: 21.4841 - KL Loss: 6.1227: 100%|██████████| 28/28 [00:00<00:00, 93.95it/s]\n",
      "Epoch:    22/100 - Loss: 28.4882 - Recon Loss: 22.1488 - KL Loss: 6.3394:  64%|██████▍   | 18/28 [00:00<00:00, 96.16it/s]"
     ]
    },
    {
     "ename": "KeyboardInterrupt",
     "evalue": "",
     "output_type": "error",
     "traceback": [
      "\u001b[1;31m---------------------------------------------------------------------------\u001b[0m",
      "\u001b[1;31mKeyboardInterrupt\u001b[0m                         Traceback (most recent call last)",
      "\u001b[1;32m~\\AppData\\Local\\Temp\\ipykernel_24172\\1664835719.py\u001b[0m in \u001b[0;36m<module>\u001b[1;34m\u001b[0m\n\u001b[0;32m     34\u001b[0m \u001b[0mkwargs\u001b[0m \u001b[1;33m=\u001b[0m \u001b[1;33m{\u001b[0m\u001b[1;33m}\u001b[0m\u001b[1;33m\u001b[0m\u001b[1;33m\u001b[0m\u001b[0m\n\u001b[0;32m     35\u001b[0m \u001b[1;33m\u001b[0m\u001b[0m\n\u001b[1;32m---> 36\u001b[1;33m \u001b[0mmodel\u001b[0m\u001b[1;33m,\u001b[0m \u001b[0mtrain_loss_history\u001b[0m \u001b[1;33m=\u001b[0m \u001b[0mtrain_loop\u001b[0m\u001b[1;33m(\u001b[0m\u001b[0mmodel\u001b[0m\u001b[1;33m,\u001b[0m \u001b[0moptimizer\u001b[0m\u001b[1;33m,\u001b[0m \u001b[0mEPOCHS\u001b[0m\u001b[1;33m,\u001b[0m \u001b[0mtrain_loader\u001b[0m\u001b[1;33m,\u001b[0m \u001b[1;33m**\u001b[0m\u001b[0mkwargs\u001b[0m\u001b[1;33m)\u001b[0m\u001b[1;33m\u001b[0m\u001b[1;33m\u001b[0m\u001b[0m\n\u001b[0m\u001b[0;32m     37\u001b[0m \u001b[0m_\u001b[0m \u001b[1;33m=\u001b[0m \u001b[0mevaluate_model\u001b[0m\u001b[1;33m(\u001b[0m\u001b[0mmodel\u001b[0m\u001b[1;33m,\u001b[0m \u001b[0mtest_loader\u001b[0m\u001b[1;33m,\u001b[0m \u001b[1;33m**\u001b[0m\u001b[0mkwargs\u001b[0m\u001b[1;33m)\u001b[0m\u001b[1;33m\u001b[0m\u001b[1;33m\u001b[0m\u001b[0m\n\u001b[0;32m     38\u001b[0m \u001b[0msample_and_save\u001b[0m\u001b[1;33m(\u001b[0m\u001b[0mmodel\u001b[0m\u001b[1;33m,\u001b[0m \u001b[0mdt\u001b[0m\u001b[1;33m=\u001b[0m\u001b[1;36m1.\u001b[0m\u001b[1;33m)\u001b[0m\u001b[1;33m\u001b[0m\u001b[1;33m\u001b[0m\u001b[0m\n",
      "\u001b[1;32m~\\AppData\\Local\\Temp\\ipykernel_24172\\189702943.py\u001b[0m in \u001b[0;36mtrain_loop\u001b[1;34m(model, optimizer, epochs, dataloader, save_freq, resume, verbose, sample_freq, weights_path, stats_path, **kwargs)\u001b[0m\n\u001b[0;32m     56\u001b[0m         \u001b[0mprogress\u001b[0m \u001b[1;33m=\u001b[0m \u001b[1;32mNone\u001b[0m\u001b[1;33m\u001b[0m\u001b[1;33m\u001b[0m\u001b[0m\n\u001b[0;32m     57\u001b[0m         \u001b[1;32mif\u001b[0m \u001b[0mverbose\u001b[0m\u001b[1;33m:\u001b[0m \u001b[0mprogress\u001b[0m \u001b[1;33m=\u001b[0m \u001b[0mtqdm\u001b[0m\u001b[1;33m(\u001b[0m\u001b[0mdataloader\u001b[0m\u001b[1;33m,\u001b[0m \u001b[0mposition\u001b[0m\u001b[1;33m=\u001b[0m\u001b[1;36m0\u001b[0m\u001b[1;33m,\u001b[0m \u001b[0mleave\u001b[0m\u001b[1;33m=\u001b[0m\u001b[1;32mTrue\u001b[0m\u001b[1;33m)\u001b[0m\u001b[1;33m\u001b[0m\u001b[1;33m\u001b[0m\u001b[0m\n\u001b[1;32m---> 58\u001b[1;33m         \u001b[1;32mfor\u001b[0m \u001b[0mi\u001b[0m\u001b[1;33m,\u001b[0m \u001b[0mx\u001b[0m \u001b[1;32min\u001b[0m \u001b[0menumerate\u001b[0m\u001b[1;33m(\u001b[0m\u001b[0mdataloader\u001b[0m\u001b[1;33m)\u001b[0m\u001b[1;33m:\u001b[0m\u001b[1;33m\u001b[0m\u001b[1;33m\u001b[0m\u001b[0m\n\u001b[0m\u001b[0;32m     59\u001b[0m             \u001b[0mx\u001b[0m \u001b[1;33m=\u001b[0m \u001b[0mx\u001b[0m\u001b[1;33m.\u001b[0m\u001b[0mto\u001b[0m\u001b[1;33m(\u001b[0m\u001b[0mdevice\u001b[0m\u001b[1;33m,\u001b[0m \u001b[0mdtype\u001b[0m\u001b[1;33m=\u001b[0m\u001b[0mtorch\u001b[0m\u001b[1;33m.\u001b[0m\u001b[0mfloat32\u001b[0m\u001b[1;33m)\u001b[0m\u001b[1;33m\u001b[0m\u001b[1;33m\u001b[0m\u001b[0m\n\u001b[0;32m     60\u001b[0m             \u001b[0moptimizer\u001b[0m\u001b[1;33m.\u001b[0m\u001b[0mzero_grad\u001b[0m\u001b[1;33m(\u001b[0m\u001b[1;33m)\u001b[0m\u001b[1;33m\u001b[0m\u001b[1;33m\u001b[0m\u001b[0m\n",
      "\u001b[1;32mc:\\Users\\Riles\\miniconda3\\envs\\deeplearning\\lib\\site-packages\\torch\\utils\\data\\dataloader.py\u001b[0m in \u001b[0;36m__next__\u001b[1;34m(self)\u001b[0m\n\u001b[0;32m    626\u001b[0m                 \u001b[1;31m# TODO(https://github.com/pytorch/pytorch/issues/76750)\u001b[0m\u001b[1;33m\u001b[0m\u001b[1;33m\u001b[0m\u001b[1;33m\u001b[0m\u001b[0m\n\u001b[0;32m    627\u001b[0m                 \u001b[0mself\u001b[0m\u001b[1;33m.\u001b[0m\u001b[0m_reset\u001b[0m\u001b[1;33m(\u001b[0m\u001b[1;33m)\u001b[0m  \u001b[1;31m# type: ignore[call-arg]\u001b[0m\u001b[1;33m\u001b[0m\u001b[1;33m\u001b[0m\u001b[0m\n\u001b[1;32m--> 628\u001b[1;33m             \u001b[0mdata\u001b[0m \u001b[1;33m=\u001b[0m \u001b[0mself\u001b[0m\u001b[1;33m.\u001b[0m\u001b[0m_next_data\u001b[0m\u001b[1;33m(\u001b[0m\u001b[1;33m)\u001b[0m\u001b[1;33m\u001b[0m\u001b[1;33m\u001b[0m\u001b[0m\n\u001b[0m\u001b[0;32m    629\u001b[0m             \u001b[0mself\u001b[0m\u001b[1;33m.\u001b[0m\u001b[0m_num_yielded\u001b[0m \u001b[1;33m+=\u001b[0m \u001b[1;36m1\u001b[0m\u001b[1;33m\u001b[0m\u001b[1;33m\u001b[0m\u001b[0m\n\u001b[0;32m    630\u001b[0m             \u001b[1;32mif\u001b[0m \u001b[0mself\u001b[0m\u001b[1;33m.\u001b[0m\u001b[0m_dataset_kind\u001b[0m \u001b[1;33m==\u001b[0m \u001b[0m_DatasetKind\u001b[0m\u001b[1;33m.\u001b[0m\u001b[0mIterable\u001b[0m \u001b[1;32mand\u001b[0m\u001b[0;31m \u001b[0m\u001b[0;31m\\\u001b[0m\u001b[1;33m\u001b[0m\u001b[1;33m\u001b[0m\u001b[0m\n",
      "\u001b[1;32mc:\\Users\\Riles\\miniconda3\\envs\\deeplearning\\lib\\site-packages\\torch\\utils\\data\\dataloader.py\u001b[0m in \u001b[0;36m_next_data\u001b[1;34m(self)\u001b[0m\n\u001b[0;32m    669\u001b[0m     \u001b[1;32mdef\u001b[0m \u001b[0m_next_data\u001b[0m\u001b[1;33m(\u001b[0m\u001b[0mself\u001b[0m\u001b[1;33m)\u001b[0m\u001b[1;33m:\u001b[0m\u001b[1;33m\u001b[0m\u001b[1;33m\u001b[0m\u001b[0m\n\u001b[0;32m    670\u001b[0m         \u001b[0mindex\u001b[0m \u001b[1;33m=\u001b[0m \u001b[0mself\u001b[0m\u001b[1;33m.\u001b[0m\u001b[0m_next_index\u001b[0m\u001b[1;33m(\u001b[0m\u001b[1;33m)\u001b[0m  \u001b[1;31m# may raise StopIteration\u001b[0m\u001b[1;33m\u001b[0m\u001b[1;33m\u001b[0m\u001b[0m\n\u001b[1;32m--> 671\u001b[1;33m         \u001b[0mdata\u001b[0m \u001b[1;33m=\u001b[0m \u001b[0mself\u001b[0m\u001b[1;33m.\u001b[0m\u001b[0m_dataset_fetcher\u001b[0m\u001b[1;33m.\u001b[0m\u001b[0mfetch\u001b[0m\u001b[1;33m(\u001b[0m\u001b[0mindex\u001b[0m\u001b[1;33m)\u001b[0m  \u001b[1;31m# may raise StopIteration\u001b[0m\u001b[1;33m\u001b[0m\u001b[1;33m\u001b[0m\u001b[0m\n\u001b[0m\u001b[0;32m    672\u001b[0m         \u001b[1;32mif\u001b[0m \u001b[0mself\u001b[0m\u001b[1;33m.\u001b[0m\u001b[0m_pin_memory\u001b[0m\u001b[1;33m:\u001b[0m\u001b[1;33m\u001b[0m\u001b[1;33m\u001b[0m\u001b[0m\n\u001b[0;32m    673\u001b[0m             \u001b[0mdata\u001b[0m \u001b[1;33m=\u001b[0m \u001b[0m_utils\u001b[0m\u001b[1;33m.\u001b[0m\u001b[0mpin_memory\u001b[0m\u001b[1;33m.\u001b[0m\u001b[0mpin_memory\u001b[0m\u001b[1;33m(\u001b[0m\u001b[0mdata\u001b[0m\u001b[1;33m,\u001b[0m \u001b[0mself\u001b[0m\u001b[1;33m.\u001b[0m\u001b[0m_pin_memory_device\u001b[0m\u001b[1;33m)\u001b[0m\u001b[1;33m\u001b[0m\u001b[1;33m\u001b[0m\u001b[0m\n",
      "\u001b[1;32mc:\\Users\\Riles\\miniconda3\\envs\\deeplearning\\lib\\site-packages\\torch\\utils\\data\\_utils\\fetch.py\u001b[0m in \u001b[0;36mfetch\u001b[1;34m(self, possibly_batched_index)\u001b[0m\n\u001b[0;32m     56\u001b[0m                 \u001b[0mdata\u001b[0m \u001b[1;33m=\u001b[0m \u001b[0mself\u001b[0m\u001b[1;33m.\u001b[0m\u001b[0mdataset\u001b[0m\u001b[1;33m.\u001b[0m\u001b[0m__getitems__\u001b[0m\u001b[1;33m(\u001b[0m\u001b[0mpossibly_batched_index\u001b[0m\u001b[1;33m)\u001b[0m\u001b[1;33m\u001b[0m\u001b[1;33m\u001b[0m\u001b[0m\n\u001b[0;32m     57\u001b[0m             \u001b[1;32melse\u001b[0m\u001b[1;33m:\u001b[0m\u001b[1;33m\u001b[0m\u001b[1;33m\u001b[0m\u001b[0m\n\u001b[1;32m---> 58\u001b[1;33m                 \u001b[0mdata\u001b[0m \u001b[1;33m=\u001b[0m \u001b[1;33m[\u001b[0m\u001b[0mself\u001b[0m\u001b[1;33m.\u001b[0m\u001b[0mdataset\u001b[0m\u001b[1;33m[\u001b[0m\u001b[0midx\u001b[0m\u001b[1;33m]\u001b[0m \u001b[1;32mfor\u001b[0m \u001b[0midx\u001b[0m \u001b[1;32min\u001b[0m \u001b[0mpossibly_batched_index\u001b[0m\u001b[1;33m]\u001b[0m\u001b[1;33m\u001b[0m\u001b[1;33m\u001b[0m\u001b[0m\n\u001b[0m\u001b[0;32m     59\u001b[0m         \u001b[1;32melse\u001b[0m\u001b[1;33m:\u001b[0m\u001b[1;33m\u001b[0m\u001b[1;33m\u001b[0m\u001b[0m\n\u001b[0;32m     60\u001b[0m             \u001b[0mdata\u001b[0m \u001b[1;33m=\u001b[0m \u001b[0mself\u001b[0m\u001b[1;33m.\u001b[0m\u001b[0mdataset\u001b[0m\u001b[1;33m[\u001b[0m\u001b[0mpossibly_batched_index\u001b[0m\u001b[1;33m]\u001b[0m\u001b[1;33m\u001b[0m\u001b[1;33m\u001b[0m\u001b[0m\n",
      "\u001b[1;32mc:\\Users\\Riles\\miniconda3\\envs\\deeplearning\\lib\\site-packages\\torch\\utils\\data\\_utils\\fetch.py\u001b[0m in \u001b[0;36m<listcomp>\u001b[1;34m(.0)\u001b[0m\n\u001b[0;32m     56\u001b[0m                 \u001b[0mdata\u001b[0m \u001b[1;33m=\u001b[0m \u001b[0mself\u001b[0m\u001b[1;33m.\u001b[0m\u001b[0mdataset\u001b[0m\u001b[1;33m.\u001b[0m\u001b[0m__getitems__\u001b[0m\u001b[1;33m(\u001b[0m\u001b[0mpossibly_batched_index\u001b[0m\u001b[1;33m)\u001b[0m\u001b[1;33m\u001b[0m\u001b[1;33m\u001b[0m\u001b[0m\n\u001b[0;32m     57\u001b[0m             \u001b[1;32melse\u001b[0m\u001b[1;33m:\u001b[0m\u001b[1;33m\u001b[0m\u001b[1;33m\u001b[0m\u001b[0m\n\u001b[1;32m---> 58\u001b[1;33m                 \u001b[0mdata\u001b[0m \u001b[1;33m=\u001b[0m \u001b[1;33m[\u001b[0m\u001b[0mself\u001b[0m\u001b[1;33m.\u001b[0m\u001b[0mdataset\u001b[0m\u001b[1;33m[\u001b[0m\u001b[0midx\u001b[0m\u001b[1;33m]\u001b[0m \u001b[1;32mfor\u001b[0m \u001b[0midx\u001b[0m \u001b[1;32min\u001b[0m \u001b[0mpossibly_batched_index\u001b[0m\u001b[1;33m]\u001b[0m\u001b[1;33m\u001b[0m\u001b[1;33m\u001b[0m\u001b[0m\n\u001b[0m\u001b[0;32m     59\u001b[0m         \u001b[1;32melse\u001b[0m\u001b[1;33m:\u001b[0m\u001b[1;33m\u001b[0m\u001b[1;33m\u001b[0m\u001b[0m\n\u001b[0;32m     60\u001b[0m             \u001b[0mdata\u001b[0m \u001b[1;33m=\u001b[0m \u001b[0mself\u001b[0m\u001b[1;33m.\u001b[0m\u001b[0mdataset\u001b[0m\u001b[1;33m[\u001b[0m\u001b[0mpossibly_batched_index\u001b[0m\u001b[1;33m]\u001b[0m\u001b[1;33m\u001b[0m\u001b[1;33m\u001b[0m\u001b[0m\n",
      "\u001b[1;32m~\\AppData\\Local\\Temp\\ipykernel_24172\\3406784977.py\u001b[0m in \u001b[0;36m__getitem__\u001b[1;34m(self, idx)\u001b[0m\n\u001b[0;32m      9\u001b[0m     \u001b[1;32mdef\u001b[0m \u001b[0m__getitem__\u001b[0m\u001b[1;33m(\u001b[0m\u001b[0mself\u001b[0m\u001b[1;33m,\u001b[0m \u001b[0midx\u001b[0m\u001b[1;33m)\u001b[0m\u001b[1;33m:\u001b[0m\u001b[1;33m\u001b[0m\u001b[1;33m\u001b[0m\u001b[0m\n\u001b[0;32m     10\u001b[0m         \u001b[1;32mif\u001b[0m \u001b[0mself\u001b[0m\u001b[1;33m.\u001b[0m\u001b[0mtransform\u001b[0m\u001b[1;33m:\u001b[0m\u001b[1;33m\u001b[0m\u001b[1;33m\u001b[0m\u001b[0m\n\u001b[1;32m---> 11\u001b[1;33m             \u001b[1;32mreturn\u001b[0m \u001b[0mself\u001b[0m\u001b[1;33m.\u001b[0m\u001b[0mtransform\u001b[0m\u001b[1;33m(\u001b[0m\u001b[0mself\u001b[0m\u001b[1;33m.\u001b[0m\u001b[0mx\u001b[0m\u001b[1;33m[\u001b[0m\u001b[0midx\u001b[0m\u001b[1;33m]\u001b[0m\u001b[1;33m)\u001b[0m\u001b[1;33m\u001b[0m\u001b[1;33m\u001b[0m\u001b[0m\n\u001b[0m\u001b[0;32m     12\u001b[0m         \u001b[1;32mreturn\u001b[0m \u001b[0mself\u001b[0m\u001b[1;33m.\u001b[0m\u001b[0mx\u001b[0m\u001b[1;33m[\u001b[0m\u001b[0midx\u001b[0m\u001b[1;33m]\u001b[0m\u001b[1;33m\u001b[0m\u001b[1;33m\u001b[0m\u001b[0m\n\u001b[0;32m     13\u001b[0m \u001b[1;33m\u001b[0m\u001b[0m\n",
      "\u001b[1;32mc:\\Users\\Riles\\miniconda3\\envs\\deeplearning\\lib\\site-packages\\torch\\nn\\modules\\module.py\u001b[0m in \u001b[0;36m_call_impl\u001b[1;34m(self, *input, **kwargs)\u001b[0m\n\u001b[0;32m   1188\u001b[0m         if not (self._backward_hooks or self._forward_hooks or self._forward_pre_hooks or _global_backward_hooks\n\u001b[0;32m   1189\u001b[0m                 or _global_forward_hooks or _global_forward_pre_hooks):\n\u001b[1;32m-> 1190\u001b[1;33m             \u001b[1;32mreturn\u001b[0m \u001b[0mforward_call\u001b[0m\u001b[1;33m(\u001b[0m\u001b[1;33m*\u001b[0m\u001b[0minput\u001b[0m\u001b[1;33m,\u001b[0m \u001b[1;33m**\u001b[0m\u001b[0mkwargs\u001b[0m\u001b[1;33m)\u001b[0m\u001b[1;33m\u001b[0m\u001b[1;33m\u001b[0m\u001b[0m\n\u001b[0m\u001b[0;32m   1191\u001b[0m         \u001b[1;31m# Do not call functions when jit is used\u001b[0m\u001b[1;33m\u001b[0m\u001b[1;33m\u001b[0m\u001b[1;33m\u001b[0m\u001b[0m\n\u001b[0;32m   1192\u001b[0m         \u001b[0mfull_backward_hooks\u001b[0m\u001b[1;33m,\u001b[0m \u001b[0mnon_full_backward_hooks\u001b[0m \u001b[1;33m=\u001b[0m \u001b[1;33m[\u001b[0m\u001b[1;33m]\u001b[0m\u001b[1;33m,\u001b[0m \u001b[1;33m[\u001b[0m\u001b[1;33m]\u001b[0m\u001b[1;33m\u001b[0m\u001b[1;33m\u001b[0m\u001b[0m\n",
      "\u001b[1;32mc:\\Users\\Riles\\miniconda3\\envs\\deeplearning\\lib\\site-packages\\torchvision\\transforms\\transforms.py\u001b[0m in \u001b[0;36mforward\u001b[1;34m(self, img)\u001b[0m\n\u001b[0;32m    344\u001b[0m             \u001b[0mPIL\u001b[0m \u001b[0mImage\u001b[0m \u001b[1;32mor\u001b[0m \u001b[0mTensor\u001b[0m\u001b[1;33m:\u001b[0m \u001b[0mRescaled\u001b[0m \u001b[0mimage\u001b[0m\u001b[1;33m.\u001b[0m\u001b[1;33m\u001b[0m\u001b[1;33m\u001b[0m\u001b[0m\n\u001b[0;32m    345\u001b[0m         \"\"\"\n\u001b[1;32m--> 346\u001b[1;33m         \u001b[1;32mreturn\u001b[0m \u001b[0mF\u001b[0m\u001b[1;33m.\u001b[0m\u001b[0mresize\u001b[0m\u001b[1;33m(\u001b[0m\u001b[0mimg\u001b[0m\u001b[1;33m,\u001b[0m \u001b[0mself\u001b[0m\u001b[1;33m.\u001b[0m\u001b[0msize\u001b[0m\u001b[1;33m,\u001b[0m \u001b[0mself\u001b[0m\u001b[1;33m.\u001b[0m\u001b[0minterpolation\u001b[0m\u001b[1;33m,\u001b[0m \u001b[0mself\u001b[0m\u001b[1;33m.\u001b[0m\u001b[0mmax_size\u001b[0m\u001b[1;33m,\u001b[0m \u001b[0mself\u001b[0m\u001b[1;33m.\u001b[0m\u001b[0mantialias\u001b[0m\u001b[1;33m)\u001b[0m\u001b[1;33m\u001b[0m\u001b[1;33m\u001b[0m\u001b[0m\n\u001b[0m\u001b[0;32m    347\u001b[0m \u001b[1;33m\u001b[0m\u001b[0m\n\u001b[0;32m    348\u001b[0m     \u001b[1;32mdef\u001b[0m \u001b[0m__repr__\u001b[0m\u001b[1;33m(\u001b[0m\u001b[0mself\u001b[0m\u001b[1;33m)\u001b[0m \u001b[1;33m->\u001b[0m \u001b[0mstr\u001b[0m\u001b[1;33m:\u001b[0m\u001b[1;33m\u001b[0m\u001b[1;33m\u001b[0m\u001b[0m\n",
      "\u001b[1;32mc:\\Users\\Riles\\miniconda3\\envs\\deeplearning\\lib\\site-packages\\torchvision\\transforms\\functional.py\u001b[0m in \u001b[0;36mresize\u001b[1;34m(img, size, interpolation, max_size, antialias)\u001b[0m\n\u001b[0;32m    474\u001b[0m         \u001b[1;32mreturn\u001b[0m \u001b[0mF_pil\u001b[0m\u001b[1;33m.\u001b[0m\u001b[0mresize\u001b[0m\u001b[1;33m(\u001b[0m\u001b[0mimg\u001b[0m\u001b[1;33m,\u001b[0m \u001b[0msize\u001b[0m\u001b[1;33m=\u001b[0m\u001b[0moutput_size\u001b[0m\u001b[1;33m,\u001b[0m \u001b[0minterpolation\u001b[0m\u001b[1;33m=\u001b[0m\u001b[0mpil_interpolation\u001b[0m\u001b[1;33m)\u001b[0m\u001b[1;33m\u001b[0m\u001b[1;33m\u001b[0m\u001b[0m\n\u001b[0;32m    475\u001b[0m \u001b[1;33m\u001b[0m\u001b[0m\n\u001b[1;32m--> 476\u001b[1;33m     \u001b[1;32mreturn\u001b[0m \u001b[0mF_t\u001b[0m\u001b[1;33m.\u001b[0m\u001b[0mresize\u001b[0m\u001b[1;33m(\u001b[0m\u001b[0mimg\u001b[0m\u001b[1;33m,\u001b[0m \u001b[0msize\u001b[0m\u001b[1;33m=\u001b[0m\u001b[0moutput_size\u001b[0m\u001b[1;33m,\u001b[0m \u001b[0minterpolation\u001b[0m\u001b[1;33m=\u001b[0m\u001b[0minterpolation\u001b[0m\u001b[1;33m.\u001b[0m\u001b[0mvalue\u001b[0m\u001b[1;33m,\u001b[0m \u001b[0mantialias\u001b[0m\u001b[1;33m=\u001b[0m\u001b[0mantialias\u001b[0m\u001b[1;33m)\u001b[0m\u001b[1;33m\u001b[0m\u001b[1;33m\u001b[0m\u001b[0m\n\u001b[0m\u001b[0;32m    477\u001b[0m \u001b[1;33m\u001b[0m\u001b[0m\n\u001b[0;32m    478\u001b[0m \u001b[1;33m\u001b[0m\u001b[0m\n",
      "\u001b[1;32mc:\\Users\\Riles\\miniconda3\\envs\\deeplearning\\lib\\site-packages\\torchvision\\transforms\\functional_tensor.py\u001b[0m in \u001b[0;36mresize\u001b[1;34m(img, size, interpolation, antialias)\u001b[0m\n\u001b[0;32m    467\u001b[0m     \u001b[0malign_corners\u001b[0m \u001b[1;33m=\u001b[0m \u001b[1;32mFalse\u001b[0m \u001b[1;32mif\u001b[0m \u001b[0minterpolation\u001b[0m \u001b[1;32min\u001b[0m \u001b[1;33m[\u001b[0m\u001b[1;34m\"bilinear\"\u001b[0m\u001b[1;33m,\u001b[0m \u001b[1;34m\"bicubic\"\u001b[0m\u001b[1;33m]\u001b[0m \u001b[1;32melse\u001b[0m \u001b[1;32mNone\u001b[0m\u001b[1;33m\u001b[0m\u001b[1;33m\u001b[0m\u001b[0m\n\u001b[0;32m    468\u001b[0m \u001b[1;33m\u001b[0m\u001b[0m\n\u001b[1;32m--> 469\u001b[1;33m     \u001b[0mimg\u001b[0m \u001b[1;33m=\u001b[0m \u001b[0minterpolate\u001b[0m\u001b[1;33m(\u001b[0m\u001b[0mimg\u001b[0m\u001b[1;33m,\u001b[0m \u001b[0msize\u001b[0m\u001b[1;33m=\u001b[0m\u001b[0msize\u001b[0m\u001b[1;33m,\u001b[0m \u001b[0mmode\u001b[0m\u001b[1;33m=\u001b[0m\u001b[0minterpolation\u001b[0m\u001b[1;33m,\u001b[0m \u001b[0malign_corners\u001b[0m\u001b[1;33m=\u001b[0m\u001b[0malign_corners\u001b[0m\u001b[1;33m,\u001b[0m \u001b[0mantialias\u001b[0m\u001b[1;33m=\u001b[0m\u001b[0mantialias\u001b[0m\u001b[1;33m)\u001b[0m\u001b[1;33m\u001b[0m\u001b[1;33m\u001b[0m\u001b[0m\n\u001b[0m\u001b[0;32m    470\u001b[0m \u001b[1;33m\u001b[0m\u001b[0m\n\u001b[0;32m    471\u001b[0m     \u001b[1;32mif\u001b[0m \u001b[0minterpolation\u001b[0m \u001b[1;33m==\u001b[0m \u001b[1;34m\"bicubic\"\u001b[0m \u001b[1;32mand\u001b[0m \u001b[0mout_dtype\u001b[0m \u001b[1;33m==\u001b[0m \u001b[0mtorch\u001b[0m\u001b[1;33m.\u001b[0m\u001b[0muint8\u001b[0m\u001b[1;33m:\u001b[0m\u001b[1;33m\u001b[0m\u001b[1;33m\u001b[0m\u001b[0m\n",
      "\u001b[1;32mc:\\Users\\Riles\\miniconda3\\envs\\deeplearning\\lib\\site-packages\\torch\\nn\\functional.py\u001b[0m in \u001b[0;36minterpolate\u001b[1;34m(input, size, scale_factor, mode, align_corners, recompute_scale_factor, antialias)\u001b[0m\n\u001b[0;32m   3948\u001b[0m         \u001b[1;32mif\u001b[0m \u001b[0mantialias\u001b[0m\u001b[1;33m:\u001b[0m\u001b[1;33m\u001b[0m\u001b[1;33m\u001b[0m\u001b[0m\n\u001b[0;32m   3949\u001b[0m             \u001b[1;32mreturn\u001b[0m \u001b[0mtorch\u001b[0m\u001b[1;33m.\u001b[0m\u001b[0m_C\u001b[0m\u001b[1;33m.\u001b[0m\u001b[0m_nn\u001b[0m\u001b[1;33m.\u001b[0m\u001b[0m_upsample_bilinear2d_aa\u001b[0m\u001b[1;33m(\u001b[0m\u001b[0minput\u001b[0m\u001b[1;33m,\u001b[0m \u001b[0moutput_size\u001b[0m\u001b[1;33m,\u001b[0m \u001b[0malign_corners\u001b[0m\u001b[1;33m,\u001b[0m \u001b[0mscale_factors\u001b[0m\u001b[1;33m)\u001b[0m\u001b[1;33m\u001b[0m\u001b[1;33m\u001b[0m\u001b[0m\n\u001b[1;32m-> 3950\u001b[1;33m         \u001b[1;32mreturn\u001b[0m \u001b[0mtorch\u001b[0m\u001b[1;33m.\u001b[0m\u001b[0m_C\u001b[0m\u001b[1;33m.\u001b[0m\u001b[0m_nn\u001b[0m\u001b[1;33m.\u001b[0m\u001b[0mupsample_bilinear2d\u001b[0m\u001b[1;33m(\u001b[0m\u001b[0minput\u001b[0m\u001b[1;33m,\u001b[0m \u001b[0moutput_size\u001b[0m\u001b[1;33m,\u001b[0m \u001b[0malign_corners\u001b[0m\u001b[1;33m,\u001b[0m \u001b[0mscale_factors\u001b[0m\u001b[1;33m)\u001b[0m\u001b[1;33m\u001b[0m\u001b[1;33m\u001b[0m\u001b[0m\n\u001b[0m\u001b[0;32m   3951\u001b[0m     \u001b[1;32mif\u001b[0m \u001b[0minput\u001b[0m\u001b[1;33m.\u001b[0m\u001b[0mdim\u001b[0m\u001b[1;33m(\u001b[0m\u001b[1;33m)\u001b[0m \u001b[1;33m==\u001b[0m \u001b[1;36m5\u001b[0m \u001b[1;32mand\u001b[0m \u001b[0mmode\u001b[0m \u001b[1;33m==\u001b[0m \u001b[1;34m\"trilinear\"\u001b[0m\u001b[1;33m:\u001b[0m\u001b[1;33m\u001b[0m\u001b[1;33m\u001b[0m\u001b[0m\n\u001b[0;32m   3952\u001b[0m         \u001b[1;32massert\u001b[0m \u001b[0malign_corners\u001b[0m \u001b[1;32mis\u001b[0m \u001b[1;32mnot\u001b[0m \u001b[1;32mNone\u001b[0m\u001b[1;33m\u001b[0m\u001b[1;33m\u001b[0m\u001b[0m\n",
      "\u001b[1;31mKeyboardInterrupt\u001b[0m: "
     ]
    },
    {
     "name": "stderr",
     "output_type": "stream",
     "text": [
      "Epoch:    22/100 - Loss: 28.4882 - Recon Loss: 22.1488 - KL Loss: 6.3394:  64%|██████▍   | 18/28 [00:10<00:00, 96.16it/s]"
     ]
    }
   ],
   "source": [
    "from models.rvae import RVAE\n",
    "from models.vae import VAE\n",
    "from models.dvae import DVAE\n",
    "\n",
    "def parse_blocks_str(s):\n",
    "    blocks = []\n",
    "    for block in s.split(','):\n",
    "        if 'x' in block:\n",
    "            res, num = block.split('x')\n",
    "            blocks.extend([(int(res), None) for _ in range(int(num))])\n",
    "        elif 'd' in block:\n",
    "            res, down_rate = block.split('d')\n",
    "            blocks.append((int(res), int(down_rate)))\n",
    "        elif 'u' in block:\n",
    "            res, up_rate = block.split('u')\n",
    "            blocks.append((int(res), int(up_rate)))\n",
    "    return blocks\n",
    "\n",
    "enc_blocks = \"32x2,32d2,16x2,16d2,8x2,8d2,4x1\"\n",
    "dec_blocks = \"4x1,4u2,8x2,8u2,16x2,16u2,32x2\"\n",
    "ENC_BLOCKS = parse_blocks_str(enc_blocks)\n",
    "DEC_BLOCKS = parse_blocks_str(dec_blocks)\n",
    "\n",
    "\n",
    "# model = VAE(IN_CHANNELS, IN_CHANNELS, NUM_CHANNELS, LATENT_DIM, ENC_BLOCKS, DEC_BLOCKS, BOTTLENECK_RATIO).to(device)\n",
    "model = VAE((IN_CHANNELS, *IMG_SIZE), IN_CHANNELS, [32, 64, 128, 256], LATENT_DIM, skip=False).to(device)\n",
    "# model = DVAE(IN_CHANNELS, IN_CHANNELS, LATENT_DIM, NUM_CHANNELS, enc_blocks, dec_blocks, BOTTLENECK_RATIO, riemannian=False, dt=0.1).to(device)\n",
    "\n",
    "optimizer = torch.optim.Adam(model.parameters(), lr=LEARNING_RATE)\n",
    "\n",
    "train_loader = torch.utils.data.DataLoader(IdentityDataset(train_x, transform=T.Resize([32, 32])), batch_size=BATCH_SIZE, shuffle=True, drop_last=True)\n",
    "test_loader = torch.utils.data.DataLoader(IdentityDataset(test_x, transform=T.Resize([32, 32])), batch_size=1, shuffle=False)\n",
    "\n",
    "kwargs = {}\n",
    "\n",
    "model, train_loss_history = train_loop(model, optimizer, EPOCHS, train_loader, **kwargs)\n",
    "_ = evaluate_model(model, test_loader, **kwargs)\n",
    "sample_and_save(model, dt=1.)\n",
    "\n"
   ]
  },
  {
   "cell_type": "code",
   "execution_count": null,
   "metadata": {},
   "outputs": [],
   "source": [
    "_ = evaluate_model(model, test_loader, **kwargs)"
   ]
  },
  {
   "cell_type": "code",
   "execution_count": null,
   "metadata": {},
   "outputs": [],
   "source": []
  }
 ],
 "metadata": {
  "kernelspec": {
   "display_name": "deeplearning",
   "language": "python",
   "name": "python3"
  },
  "language_info": {
   "codemirror_mode": {
    "name": "ipython",
    "version": 3
   },
   "file_extension": ".py",
   "mimetype": "text/x-python",
   "name": "python",
   "nbconvert_exporter": "python",
   "pygments_lexer": "ipython3",
   "version": "3.7.13"
  },
  "orig_nbformat": 4,
  "vscode": {
   "interpreter": {
    "hash": "681a47d378842551c6daf363e52d7efc35beefdb7354cc2b56d4b25e0f53eaf5"
   }
  }
 },
 "nbformat": 4,
 "nbformat_minor": 2
}
