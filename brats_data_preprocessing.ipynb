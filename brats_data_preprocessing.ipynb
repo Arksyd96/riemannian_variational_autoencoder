{
 "cells": [
  {
   "cell_type": "code",
   "execution_count": 1,
   "metadata": {},
   "outputs": [
    {
     "name": "stdout",
     "output_type": "stream",
     "text": [
      "imported\n"
     ]
    }
   ],
   "source": [
    "import numpy as np\n",
    "import nibabel as nib\n",
    "import torch\n",
    "import os\n",
    "import matplotlib.pyplot as plt\n",
    "from tqdm import tqdm\n",
    "\n",
    "print('imported')"
   ]
  },
  {
   "cell_type": "markdown",
   "metadata": {},
   "source": [
    "### Loading data"
   ]
  },
  {
   "cell_type": "code",
   "execution_count": 2,
   "metadata": {},
   "outputs": [
    {
     "name": "stderr",
     "output_type": "stream",
     "text": [
      "100%|██████████| 1000/1000 [03:39<00:00,  4.55it/s]\n"
     ]
    },
    {
     "name": "stdout",
     "output_type": "stream",
     "text": [
      "Flair shape:  (1000, 240, 240)\n",
      "data saved\n"
     ]
    }
   ],
   "source": [
    "ROOT_DIR = '../common_data/RSNA_ASNR_MICCAI_BraTS2021_TrainingData_16July2021/'\n",
    "\n",
    "n_samples = 1000\n",
    "flair, mask, t1, t2, t1ce = list(), list(), list(), list(), list()\n",
    "for instance in tqdm(os.listdir(ROOT_DIR)[: n_samples], position=0, leave=True):\n",
    "    mask_model = nib.load(os.path.join(ROOT_DIR, instance, instance + '_seg.nii.gz')).get_fdata()\n",
    "    # selecting best slice\n",
    "    window = 0\n",
    "    best_slice_idx = np.argmax(np.sum(mask_model, axis=(0, 1)))\n",
    "\n",
    "    # loading whole 3D model\n",
    "    flair_model = nib.load(os.path.join(ROOT_DIR, instance, instance + '_flair.nii.gz')).dataobj[:, :, best_slice_idx - window:best_slice_idx + window + 1]\n",
    "    t1_model = nib.load(os.path.join(ROOT_DIR, instance, instance + '_t1.nii.gz')).dataobj[:, :, best_slice_idx - window:best_slice_idx + window + 1]\n",
    "    t2_model = nib.load(os.path.join(ROOT_DIR, instance, instance + '_t2.nii.gz')).dataobj[:, :, best_slice_idx - window:best_slice_idx + window + 1]\n",
    "    t1ce_model = nib.load(os.path.join(ROOT_DIR, instance, instance + '_t1ce.nii.gz')).dataobj[:, :, best_slice_idx - window:best_slice_idx + window + 1]\n",
    "    mask_model = mask_model[:, :, best_slice_idx - window:best_slice_idx + window + 1]\n",
    "\n",
    "    # appending 10% best slices\n",
    "    flair.extend([flair_model[:, :, slice] for slice in range(flair_model.shape[2])])\n",
    "    t1.extend([t1_model[:, :, slice] for slice in range(t1_model.shape[2])])\n",
    "    t2.extend([t2_model[:, :, slice] for slice in range(t2_model.shape[2])])\n",
    "    t1ce.extend([t1ce_model[:, :, slice] for slice in range(t1ce_model.shape[2])])\n",
    "    mask.extend([mask_model[:, :, slice] for slice in range(mask_model.shape[2])])\n",
    "\n",
    "flair, t1, t2, t1ce, mask = np.array(flair), np.array(t1), np.array(t2), np.array(t1ce), np.array(mask)\n",
    "\n",
    "# shuffle\n",
    "idx = np.arange(flair.shape[0])\n",
    "np.random.shuffle(idx)\n",
    "flair, mask, t1, t2, t1ce = flair[idx], mask[idx], t1[idx], t2[idx], t1ce[idx]\n",
    "\n",
    "print('Flair shape: ', flair.shape)\n",
    "\n",
    "np.savez_compressed('data/brats_data.npz', flair=flair, mask=mask, t1=t1, t2=t2, t1ce=t1ce)\n",
    "print('data saved')"
   ]
  },
  {
   "cell_type": "code",
   "execution_count": 33,
   "metadata": {},
   "outputs": [
    {
     "name": "stdout",
     "output_type": "stream",
     "text": [
      "data saved\n"
     ]
    }
   ],
   "source": [
    "np.savez_compressed('data/brats_data.npz', flair=flair, mask=mask, t1=t1, t2=t2, t1ce=t1ce)\n",
    "print('data saved')"
   ]
  },
  {
   "cell_type": "code",
   "execution_count": null,
   "metadata": {},
   "outputs": [],
   "source": []
  }
 ],
 "metadata": {
  "kernelspec": {
   "display_name": "Python 3.7.13 ('work')",
   "language": "python",
   "name": "python3"
  },
  "language_info": {
   "codemirror_mode": {
    "name": "ipython",
    "version": 3
   },
   "file_extension": ".py",
   "mimetype": "text/x-python",
   "name": "python",
   "nbconvert_exporter": "python",
   "pygments_lexer": "ipython3",
   "version": "3.8.13"
  },
  "orig_nbformat": 4,
  "vscode": {
   "interpreter": {
    "hash": "fae847446f25d1d5cccaa632528b81cb53ce4d6408a7df79225531d1adf33a86"
   }
  }
 },
 "nbformat": 4,
 "nbformat_minor": 2
}
